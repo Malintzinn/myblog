{
 "cells": [
  {
   "cell_type": "markdown",
   "id": "757eb394",
   "metadata": {},
   "source": [
    "# Spotify Audio Feature Analysis: \n",
    "## A Comparative Analysis of Top 2000s, Global Top 5, and Notable Artists\n"
   ]
  },
  {
   "cell_type": "markdown",
   "id": "9e427440",
   "metadata": {},
   "source": [
    "**Research Motivation:**\n",
    "\n",
    "This analysis provides an exciting opportunity to delve into the evolution of popular music and identify the characteristics that contribute to a song's success. \n",
    "This analysis offers a compelling opportunity to examine the evolution of musical characteristics and their relationship with popularity over several decades. The insights derived from this analysis will not only enhance our understanding of the trajectory of popular music but also provide valuable context for anticipating future trends in the music landscape.\n",
    "\n",
    " **Research Questions:**\n",
    " \n",
    "This research seeks to address several critical questions:\n",
    "\n",
    "What characteristics are common among the most popular songs?\n",
    "\n",
    "How have trends in music shifted over time?\n",
    "\n",
    "Are there specific artists or genres that consistently produce top hits?\n",
    "\n",
    "To what extent can popularity be predicted based on these characteristics?\n",
    "\n",
    "\n",
    "**Data Overview:**\n",
    "\n",
    "The analysis draws upon two distinct datasets that offer a comprehensive view of both historical and contemporary music trends.\n",
    "\n",
    "\n",
    "The primary dataset,\n",
    "[Spotify - All Time Top 2000s Mega Dataset](https://www.kaggle.com/datasets/iamsumat/spotify-top-2000s-mega-dataset/data), comprises the top 2000 tracks on Spotify, spanning releases from 1956 to 2019. This dataset features tracks from iconic artists such as Queen, The Beatles, and Guns N' Roses, and includes a rich array of audio features that provide a deep dive into the characteristics that have defined popular music over the last 60 years.\n",
    "\n",
    "To complement the historical analysis, a secondary dataset was extracted using the Spotify API, capturing audio features for the top 50 songs currently trending globally on Spotify. This real-time dataset offers a snapshot of contemporary musical preferences, serving as a critical point of comparison to assess how current trends align or diverge from those observed in previous decades.\n",
    "\n",
    " **Feature Descriptions**\n",
    " \n",
    "Both datasets encompass a set of key features essential for this analysis:\n",
    "\n",
    "Artist: The performer of the track.\n",
    "\n",
    "Top Genre: The genre classification of the track.\n",
    "\n",
    "Year: The release year of the track.\n",
    "\n",
    "Beats per Minute (BPM): The tempo of the song.\n",
    "\n",
    "Energy: A measure of the track's intensity and activity.\n",
    "\n",
    "Danceability: Indicates the suitability of the song for dancing.\n",
    "\n",
    "Loudness: The volume level of the track.\n",
    "\n",
    "Valence: Reflects the positivity of the song's mood.\n",
    "\n",
    "Length: The duration of the track.\n",
    "\n",
    "Acousticness: The degree to which the song is acoustic.\n",
    "\n",
    "Speechiness: The amount of spoken word content in the song.\n",
    "\n",
    "Popularity: A measure of the song's popularity on Spotify.\n"
   ]
  },
  {
   "cell_type": "markdown",
   "id": "8902916b",
   "metadata": {},
   "source": [
    "# ANALYSIS"
   ]
  },
  {
   "cell_type": "markdown",
   "id": "b4505ef6",
   "metadata": {},
   "source": [
    "Feature Insights:\n",
    "\n",
    "**Tempo and Energy:** Despite shifts in musical genres, tempo has remained a consistent feature in popular music. Our analysis shows that tempo, coupled with energy, often dictates a track's ability to engage listeners.\n",
    "\n",
    "**Valence and Danceability:** These features correlate with the emotional and physical engagement of listeners, often higher in songs that achieve widespread popularity.\n",
    "Comparative Analysis:\n",
    "\n",
    "**Historical vs. Contemporary:** By comparing datasets from the 2000s to 2024, we noticed subtle shifts in the average energy and danceability, suggesting a trend towards more vibrant and rhythmic music.\n",
    "\n",
    "**Artist Impact:** Artists like Taylor Swift and Coldplay have demonstrated versatility in adapting their musical styles to maintain relevance across different musical eras."
   ]
  },
  {
   "cell_type": "code",
   "execution_count": null,
   "id": "51ef652d",
   "metadata": {},
   "outputs": [],
   "source": []
  }
 ],
 "metadata": {
  "kernelspec": {
   "display_name": "Python 3 (ipykernel)",
   "language": "python",
   "name": "python3"
  },
  "language_info": {
   "codemirror_mode": {
    "name": "ipython",
    "version": 3
   },
   "file_extension": ".py",
   "mimetype": "text/x-python",
   "name": "python",
   "nbconvert_exporter": "python",
   "pygments_lexer": "ipython3",
   "version": "3.11.6"
  }
 },
 "nbformat": 4,
 "nbformat_minor": 5
}
